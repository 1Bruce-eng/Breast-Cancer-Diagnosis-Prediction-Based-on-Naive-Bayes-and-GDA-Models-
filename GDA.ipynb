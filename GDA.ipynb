{
 "cells": [
  {
   "cell_type": "code",
   "execution_count": 2,
   "id": "ae9b5b92",
   "metadata": {},
   "outputs": [],
   "source": [
    "import pandas as pd\n",
    "import numpy as np\n",
    "from sklearn.model_selection import train_test_split\n",
    "from sklearn.metrics import accuracy_score\n",
    "from sklearn.linear_model import LogisticRegression\n"
   ]
  },
  {
   "cell_type": "code",
   "execution_count": 3,
   "id": "f0105fee",
   "metadata": {},
   "outputs": [],
   "source": [
    "df=pd.read_csv(\"Breast_cancer_dataset.csv\")\n",
    "del df[\"Unnamed: 32\"]\n",
    "goal_col = df.pop(\"diagnosis\")\n",
    "df = df.set_index(\"id\")\n",
    "x_train, x_test, y_train, y_test = train_test_split(df, goal_col, test_size=0.2, random_state=42,stratify=goal_col)\n",
    "\n",
    "\n",
    "\n",
    "\n",
    "\n",
    "\n"
   ]
  },
  {
   "cell_type": "code",
   "execution_count": 4,
   "id": "a1ef56d1",
   "metadata": {},
   "outputs": [],
   "source": [
    "class GaussianDiscriminantAnalysis:\n",
    "    def __init__(self,train_data,train_label):\n",
    "        self.x_train = train_data\n",
    "        self.y_train = train_label\n",
    "        positive_nums = 0\n",
    "        negative_nums = 0\n",
    "        positive_data = []\n",
    "        negetive_data = []\n",
    "        for (data,label) in zip(train_data.values,train_label.values):\n",
    "            if label == \"M\":\n",
    "                positive_nums += 1\n",
    "                positive_data.append(data)\n",
    "            else:\n",
    "                negative_nums += 1\n",
    "                negetive_data.append(data)\n",
    "        positive_data = np.array(positive_data)\n",
    "        negetive_data = np.array(negetive_data)\n",
    "        self.positive_nums = positive_nums\n",
    "        self.negative_nums = negative_nums\n",
    "        self.positive_data = positive_data\n",
    "        self.negative_data = negetive_data\n",
    "        self.positive_mean = np.mean(self.positive_data,axis=0)\n",
    "        self.negative_mean = np.mean(self.negative_data,axis=0)\n",
    "        self.positive_covariance = np.cov(self.positive_data,rowvar=False)\n",
    "        self.negative_covariance = np.cov(self.negative_data,rowvar=False)\n",
    "        self.positive_possibility = positive_nums/(positive_nums+negative_nums)\n",
    "        self.negative_possibility = negative_nums/(positive_nums+negative_nums)\n",
    "        self.covariance = ((positive_nums-1)*self.positive_covariance+(negative_nums-1)*self.negative_covariance)/(positive_nums+negative_nums-2)\n",
    "        \n",
    "    def Gaussian(self,x,mean,covariance):\n",
    "        d = x.shape[0]\n",
    "        covariance_inv = np.linalg.inv(covariance)\n",
    "        numerator = np.exp(-0.5 * (x - mean).T @ covariance_inv @ (x - mean))\n",
    "        denominator = np.sqrt((2 * np.pi) ** d * np.linalg.det(covariance))\n",
    "        return numerator / denominator\n",
    "\n",
    "    def predict(self,test_data):\n",
    "        predictions = []\n",
    "        for data in test_data.values:\n",
    "            positive_prob = self.Gaussian(data, self.positive_mean, self.positive_covariance) * self.positive_possibility\n",
    "            negative_prob = self.Gaussian(data, self.negative_mean, self.negative_covariance) * self.negative_possibility\n",
    "            if positive_prob > negative_prob:\n",
    "                predictions.append(\"M\")\n",
    "            else:\n",
    "                predictions.append(\"B\")\n",
    "        return predictions\n",
    "\n",
    "    def score(self,test_data,test_label):\n",
    "        predictions = self.predict(test_data)\n",
    "        return accuracy_score(test_label, predictions)\n",
    "\n",
    "    def predict_with_idx(self,test_data):\n",
    "        predictions = self.predict(test_data)\n",
    "        return pd.Series(predictions, index=test_data.index)\n",
    "\n"
   ]
  },
  {
   "cell_type": "code",
   "execution_count": 6,
   "id": "9f546b63",
   "metadata": {},
   "outputs": [
    {
     "name": "stdout",
     "output_type": "stream",
     "text": [
      "gda准确率为: 0.9473684210526315\n",
      "id\n",
      "865137     B\n",
      "884948     M\n",
      "901303     M\n",
      "862548     B\n",
      "9112085    B\n",
      "          ..\n",
      "901836     B\n",
      "919537     B\n",
      "911150     B\n",
      "879523     M\n",
      "8610404    M\n",
      "Length: 114, dtype: object\n",
      "lr准确率为: 0.9385964912280702\n"
     ]
    }
   ],
   "source": [
    "gda = GaussianDiscriminantAnalysis(x_train,y_train)\n",
    "# print(gda.predict(x_test))\n",
    "print(\"gda准确率为:\",gda.score(x_test,y_test))\n",
    "print(gda.predict_with_idx(x_test))\n",
    "# print(gda.predict_with_idx(x_test)[862548])\n",
    "lr = LogisticRegression(max_iter=10000)\n",
    "lr.fit(x_train, y_train)\n",
    "test_predictions = lr.predict(x_test)\n",
    "print(\"lr准确率为:\", accuracy_score(y_test, test_predictions))\n",
    "\n",
    "\n",
    "\n",
    "\n",
    "\n",
    "\n"
   ]
  },
  {
   "cell_type": "code",
   "execution_count": null,
   "id": "618de3fe",
   "metadata": {},
   "outputs": [],
   "source": []
  },
  {
   "cell_type": "code",
   "execution_count": null,
   "id": "caa8c63e",
   "metadata": {},
   "outputs": [],
   "source": []
  }
 ],
 "metadata": {
  "kernelspec": {
   "display_name": "base",
   "language": "python",
   "name": "python3"
  },
  "language_info": {
   "codemirror_mode": {
    "name": "ipython",
    "version": 3
   },
   "file_extension": ".py",
   "mimetype": "text/x-python",
   "name": "python",
   "nbconvert_exporter": "python",
   "pygments_lexer": "ipython3",
   "version": "3.12.4"
  }
 },
 "nbformat": 4,
 "nbformat_minor": 5
}
